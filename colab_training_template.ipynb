{
 "cells": [
  {
   "cell_type": "markdown",
   "id": "aba6e608",
   "metadata": {},
   "source": [
    "# U-Net Training for MRI Reconstruction on Google Colab\n",
    "\n",
    "This notebook provides a template for training the U-Net model on Google Colab with GPU acceleration.\n",
    "\n",
    "**Before starting:**\n",
    "1. Upload your data to Google Drive (Synth_LR_nii/ and HR_nii/ folders)\n",
    "2. Enable GPU: Runtime → Change runtime type → GPU (T4, V100, or A100)\n",
    "3. Run cells sequentially"
   ]
  },
  {
   "cell_type": "markdown",
   "id": "3f5545cb",
   "metadata": {},
   "source": [
    "## 1. Check GPU Availability"
   ]
  },
  {
   "cell_type": "code",
   "execution_count": null,
   "id": "d38033de",
   "metadata": {},
   "outputs": [],
   "source": [
    "import torch\n",
    "import sys\n",
    "\n",
    "print(f\"Python version: {sys.version}\")\n",
    "print(f\"PyTorch version: {torch.__version__}\")\n",
    "print(f\"CUDA available: {torch.cuda.is_available()}\")\n",
    "\n",
    "if torch.cuda.is_available():\n",
    "    print(f\"GPU Name: {torch.cuda.get_device_name(0)}\")\n",
    "    print(f\"GPU Memory: {torch.cuda.get_device_properties(0).total_memory / 1e9:.2f} GB\")\n",
    "else:\n",
    "    print(\"⚠️ WARNING: GPU not available! Go to Runtime → Change runtime type → GPU\")"
   ]
  },
  {
   "cell_type": "markdown",
   "id": "02b3c13b",
   "metadata": {},
   "source": [
    "## 2. Mount Google Drive"
   ]
  },
  {
   "cell_type": "code",
   "execution_count": null,
   "id": "d0c98d4d",
   "metadata": {},
   "outputs": [],
   "source": [
    "from google.colab import drive\n",
    "drive.mount('/content/drive')\n",
    "\n",
    "# Verify mount\n",
    "!ls \"/content/drive/MyDrive\""
   ]
  },
  {
   "cell_type": "markdown",
   "id": "3d77ff08",
   "metadata": {},
   "source": [
    "## 3. Clone Repository"
   ]
  },
  {
   "cell_type": "code",
   "execution_count": null,
   "id": "3583ff8f",
   "metadata": {},
   "outputs": [],
   "source": [
    "# Clone repository\n",
    "!cd /content && git clone https://github.com/marioknicola/synthsup-speechMRI-recon.git\n",
    "\n",
    "# Change to repository directory\n",
    "%cd /content/synthsup-speechMRI-recon\n",
    "\n",
    "# Verify structure\n",
    "!ls -la"
   ]
  },
  {
   "cell_type": "markdown",
   "id": "d43960af",
   "metadata": {},
   "source": [
    "## 4. Install Dependencies"
   ]
  },
  {
   "cell_type": "code",
   "execution_count": null,
   "id": "5b25177a",
   "metadata": {},
   "outputs": [],
   "source": [
    "# Install requirements\n",
    "!pip install -q -r requirements.txt\n",
    "\n",
    "# Verify key packages\n",
    "import nibabel as nib\n",
    "from skimage.metrics import peak_signal_noise_ratio, structural_similarity\n",
    "print(\"✅ All packages installed successfully!\")"
   ]
  },
  {
   "cell_type": "markdown",
   "id": "aaf41e5f",
   "metadata": {},
   "source": [
    "## 5. Setup Data Paths\n",
    "\n",
    "**IMPORTANT:** Update these paths to match your Google Drive structure"
   ]
  },
  {
   "cell_type": "code",
   "execution_count": null,
   "id": "d8fb5389",
   "metadata": {},
   "outputs": [],
   "source": [
    "# ⚠️ UPDATE THESE PATHS TO MATCH YOUR DRIVE STRUCTURE\n",
    "INPUT_DIR = \"/content/drive/MyDrive/MRI_Data/Synth_LR_nii\"\n",
    "TARGET_DIR = \"/content/drive/MyDrive/MRI_Data/HR_nii\"\n",
    "OUTPUT_DIR = \"/content/drive/MyDrive/MRI_Data/outputs\"\n",
    "\n",
    "# Verify data exists\n",
    "import os\n",
    "print(f\"Input dir exists: {os.path.exists(INPUT_DIR)}\")\n",
    "print(f\"Target dir exists: {os.path.exists(TARGET_DIR)}\")\n",
    "\n",
    "if os.path.exists(INPUT_DIR):\n",
    "    input_files = os.listdir(INPUT_DIR)\n",
    "    print(f\"Found {len(input_files)} input files\")\n",
    "    print(f\"Sample files: {input_files[:3]}\")\n",
    "else:\n",
    "    print(\"⚠️ Input directory not found! Update INPUT_DIR path.\")\n",
    "\n",
    "if os.path.exists(TARGET_DIR):\n",
    "    target_files = os.listdir(TARGET_DIR)\n",
    "    print(f\"Found {len(target_files)} target files\")\n",
    "else:\n",
    "    print(\"⚠️ Target directory not found! Update TARGET_DIR path.\")\n",
    "\n",
    "# Create output directory\n",
    "os.makedirs(OUTPUT_DIR, exist_ok=True)\n",
    "print(f\"Output directory ready: {OUTPUT_DIR}\")"
   ]
  },
  {
   "cell_type": "markdown",
   "id": "ff2e9da7",
   "metadata": {},
   "source": [
    "## 6. Start Training\n",
    "\n",
    "### Quick Test (10 epochs)"
   ]
  },
  {
   "cell_type": "code",
   "execution_count": null,
   "id": "1573e57f",
   "metadata": {},
   "outputs": [],
   "source": [
    "# Quick test training\n",
    "!python3 train_unet.py \\\n",
    "    --input-dir \"{INPUT_DIR}\" \\\n",
    "    --target-dir \"{TARGET_DIR}\" \\\n",
    "    --output-dir \"{OUTPUT_DIR}\" \\\n",
    "    --epochs 10 \\\n",
    "    --batch-size 4 \\\n",
    "    --base-filters 32 \\\n",
    "    --lr 1e-4"
   ]
  },
  {
   "cell_type": "markdown",
   "id": "48277f1e",
   "metadata": {},
   "source": [
    "### Full Training (100 epochs)\n",
    "\n",
    "**Note:** This will take 4-6 hours on T4 GPU"
   ]
  },
  {
   "cell_type": "code",
   "execution_count": null,
   "id": "050ba96f",
   "metadata": {},
   "outputs": [],
   "source": [
    "# Full training\n",
    "!python3 train_unet.py \\\n",
    "    --input-dir \"{INPUT_DIR}\" \\\n",
    "    --target-dir \"{TARGET_DIR}\" \\\n",
    "    --output-dir \"{OUTPUT_DIR}\" \\\n",
    "    --epochs 100 \\\n",
    "    --batch-size 4 \\\n",
    "    --base-filters 32 \\\n",
    "    --lr 1e-4"
   ]
  },
  {
   "cell_type": "markdown",
   "id": "617d4b96",
   "metadata": {},
   "source": [
    "## 7. Monitor Training with TensorBoard"
   ]
  },
  {
   "cell_type": "code",
   "execution_count": null,
   "id": "c9cd3861",
   "metadata": {},
   "outputs": [],
   "source": [
    "# Load TensorBoard extension\n",
    "%load_ext tensorboard\n",
    "\n",
    "# Launch TensorBoard\n",
    "%tensorboard --logdir \"{OUTPUT_DIR}/logs\""
   ]
  },
  {
   "cell_type": "markdown",
   "id": "dd32964a",
   "metadata": {},
   "source": [
    "## 8. Monitor GPU Usage (Optional)"
   ]
  },
  {
   "cell_type": "code",
   "execution_count": null,
   "id": "11bdf152",
   "metadata": {},
   "outputs": [],
   "source": [
    "# Check GPU memory usage\n",
    "!nvidia-smi"
   ]
  },
  {
   "cell_type": "markdown",
   "id": "84f4b6ab",
   "metadata": {},
   "source": [
    "## 9. Check Training Results"
   ]
  },
  {
   "cell_type": "code",
   "execution_count": null,
   "id": "a2468de2",
   "metadata": {},
   "outputs": [],
   "source": [
    "# List checkpoints\n",
    "import os\n",
    "checkpoint_dir = os.path.join(OUTPUT_DIR, \"checkpoints\")\n",
    "if os.path.exists(checkpoint_dir):\n",
    "    checkpoints = sorted(os.listdir(checkpoint_dir))\n",
    "    print(f\"Found {len(checkpoints)} checkpoints:\")\n",
    "    for ckpt in checkpoints:\n",
    "        size_mb = os.path.getsize(os.path.join(checkpoint_dir, ckpt)) / 1e6\n",
    "        print(f\"  - {ckpt} ({size_mb:.1f} MB)\")\n",
    "else:\n",
    "    print(\"No checkpoints found yet.\")\n",
    "\n",
    "# Check test indices\n",
    "test_indices_path = os.path.join(OUTPUT_DIR, \"test_indices.txt\")\n",
    "if os.path.exists(test_indices_path):\n",
    "    with open(test_indices_path, 'r') as f:\n",
    "        test_indices = f.read().strip().split(',')\n",
    "    print(f\"\\nTest set: {len(test_indices)} samples\")\n",
    "    print(f\"Indices: {test_indices[:10]}...\")\n",
    "else:\n",
    "    print(\"\\nTest indices not saved yet.\")"
   ]
  },
  {
   "cell_type": "markdown",
   "id": "da48820d",
   "metadata": {},
   "source": [
    "## 10. Download Trained Model (Optional)"
   ]
  },
  {
   "cell_type": "code",
   "execution_count": null,
   "id": "af478b27",
   "metadata": {},
   "outputs": [],
   "source": [
    "# Download best model to local machine\n",
    "from google.colab import files\n",
    "\n",
    "best_model_path = os.path.join(OUTPUT_DIR, \"checkpoints\", \"best_model.pth\")\n",
    "if os.path.exists(best_model_path):\n",
    "    files.download(best_model_path)\n",
    "    print(\"✅ Model downloaded!\")\n",
    "else:\n",
    "    print(\"⚠️ Best model not found. Training may not be complete.\")"
   ]
  },
  {
   "cell_type": "markdown",
   "id": "9e2f791d",
   "metadata": {},
   "source": [
    "## 11. Resume Training (If Disconnected)"
   ]
  },
  {
   "cell_type": "code",
   "execution_count": null,
   "id": "4e623d72",
   "metadata": {},
   "outputs": [],
   "source": [
    "# Find latest checkpoint\n",
    "import glob\n",
    "checkpoints = glob.glob(os.path.join(OUTPUT_DIR, \"checkpoints\", \"checkpoint_epoch_*.pth\"))\n",
    "if checkpoints:\n",
    "    latest_checkpoint = max(checkpoints, key=os.path.getctime)\n",
    "    print(f\"Resuming from: {latest_checkpoint}\")\n",
    "    \n",
    "    # Resume training\n",
    "    !python3 train_unet.py \\\n",
    "        --input-dir \"{INPUT_DIR}\" \\\n",
    "        --target-dir \"{TARGET_DIR}\" \\\n",
    "        --output-dir \"{OUTPUT_DIR}\" \\\n",
    "        --resume \"{latest_checkpoint}\" \\\n",
    "        --epochs 100 \\\n",
    "        --batch-size 4\n",
    "else:\n",
    "    print(\"No checkpoints found to resume from.\")"
   ]
  },
  {
   "cell_type": "markdown",
   "id": "522b1219",
   "metadata": {},
   "source": [
    "## 12. Tips for Long Training Sessions\n",
    "\n",
    "### Prevent Colab Disconnection\n",
    "\n",
    "Run this JavaScript in your browser console (F12):\n",
    "\n",
    "```javascript\n",
    "function ClickConnect(){\n",
    "  console.log(\"Keeping connection alive\"); \n",
    "  document.querySelector(\"colab-connect-button\").click()\n",
    "}\n",
    "setInterval(ClickConnect, 60000)\n",
    "```\n",
    "\n",
    "### Save Progress Regularly\n",
    "\n",
    "The training script automatically saves:\n",
    "- Best model (lowest validation loss)\n",
    "- Checkpoints every 10 epochs\n",
    "- TensorBoard logs continuously\n",
    "\n",
    "All saved to Google Drive, so you won't lose progress!\n",
    "\n",
    "### Colab Pro Benefits\n",
    "\n",
    "- 24h runtime (vs 12h free)\n",
    "- Faster GPUs (V100, A100)\n",
    "- More RAM (25GB vs 12GB)\n",
    "- Background execution\n",
    "\n",
    "Consider upgrading if training frequently."
   ]
  }
 ],
 "metadata": {
  "language_info": {
   "name": "python"
  }
 },
 "nbformat": 4,
 "nbformat_minor": 5
}
