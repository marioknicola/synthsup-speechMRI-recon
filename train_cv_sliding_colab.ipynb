{
 "cells": [
  {
   "cell_type": "markdown",
   "id": "230d71c9",
   "metadata": {},
   "source": [
    " \"cells\": [\n",
    "  {\n",
    "   \"cell_type\": \"markdown\",\n",
    "   \"metadata\": {},\n",
    "   \"source\": [\n",
    "    \"# 5-Fold Cross-Validation Training (Sliding Window) - Google Colab\\n\",\n",
    "    \"\\n\",\n",
    "    \"[![Open In Colab](https://colab.research.google.com/assets/colab-badge.svg)](https://colab.research.google.com/github/marioknicola/synthsup-speechMRI-recon/blob/main/train_cv_sliding_colab.ipynb)\\n\",\n",
    "    \"\\n\",\n",
    "    \"This notebook trains a U-Net model using 5-fold cross-validation with a sliding window approach:\\n\",\n",
    "    \"- **Train/Val/Test = 5/1/1 subjects per fold**\\n\",\n",
    "    \"- **Fold 1**: Train=[0021,0022,0023,0024,0025], Val=[0026], Test=[0027]\\n\",\n",
    "    \"- **Fold 2**: Train=[0022,0023,0024,0025,0026], Val=[0027], Test=[0021]\\n\",\n",
    "    \"- **Fold 3**: Train=[0023,0024,0025,0026,0027], Val=[0021], Test=[0022]\\n\",\n",
    "    \"- **Fold 4**: Train=[0024,0025,0026,0027,0021], Val=[0022], Test=[0023]\\n\",\n",
    "    \"- **Fold 5**: Train=[0025,0026,0027,0021,0022], Val=[0023], Test=[0024]\\n\",\n",
    "    \"\\n\",\n",
    "    \"**Features:**\\n\",\n",
    "    \"- Early stopping (patience=20)\\n\",\n",
    "    \"- Only saves best model per fold\\n\",\n",
    "    \"- Batch size = 4\\n\",\n",
    "    \"- Combined MSE + SSIM loss\"\n",
    "   ]\n",
    "  },"
   ]
  },
  {
   "cell_type": "markdown",
   "id": "bc5f3139",
   "metadata": {},
   "source": [
    "## 1. Setup and Install Dependencies"
   ]
  },
  {
   "cell_type": "code",
   "execution_count": null,
   "id": "cc691f5f",
   "metadata": {},
   "outputs": [],
   "source": [
    "# Check GPU\n",
    "!nvidia-smi"
   ]
  },
  {
   "cell_type": "code",
   "execution_count": null,
   "id": "a0325df8",
   "metadata": {},
   "outputs": [],
   "source": [
    "# Install dependencies\n",
    "!pip install nibabel tqdm"
   ]
  },
  {
   "cell_type": "markdown",
   "id": "5858ff94",
   "metadata": {},
   "source": [
    "## 2. Clone Repository"
   ]
  },
  {
   "cell_type": "code",
   "execution_count": null,
   "id": "d3a358b9",
   "metadata": {},
   "outputs": [],
   "source": [
    "# Clone your repository\n",
    "!git clone https://github.com/marioknicola/synthsup-speechMRI-recon.git\n",
    "%cd synthsup-speechMRI-recon"
   ]
  },
  {
   "cell_type": "markdown",
   "id": "2d2f395a",
   "metadata": {},
   "source": [
    "## 3. Mount Google Drive and Link Data\n",
    "\n",
    "Upload your data folders to Google Drive:\n",
    "- `Synth_LR_unpadded_nii/` (input LR images)\n",
    "- `Dynamic_SENSE_padded/` (target HR images)"
   ]
  },
  {
   "cell_type": "code",
   "execution_count": null,
   "id": "61d64f03",
   "metadata": {},
   "outputs": [],
   "source": [
    "from google.colab import drive\n",
    "drive.mount('/content/drive')"
   ]
  },
  {
   "cell_type": "code",
   "execution_count": null,
   "id": "060dabf8",
   "metadata": {},
   "outputs": [],
   "source": [
    "# Create symbolic links to your data\n",
    "# Adjust paths to match your Google Drive structure\n",
    "!ln -s \"/content/drive/MyDrive/MSc_Project/Synth_LR_unpadded_nii\" ../Synth_LR_unpadded_nii\n",
    "!ln -s \"/content/drive/MyDrive/MSc_Project/Dynamic_SENSE_padded\" ../Dynamic_SENSE_padded"
   ]
  },
  {
   "cell_type": "code",
   "execution_count": null,
   "id": "8653ab04",
   "metadata": {},
   "outputs": [],
   "source": [
    "# Verify data is accessible\n",
    "!ls -lh ../Synth_LR_unpadded_nii | head -20\n",
    "!ls -lh ../Dynamic_SENSE_padded | head -20"
   ]
  },
  {
   "cell_type": "markdown",
   "id": "a75dad19",
   "metadata": {},
   "source": [
    "## 4. Run Training\n",
    "\n",
    "### Option A: Train All 5 Folds Sequentially (Recommended)"
   ]
  },
  {
   "cell_type": "code",
   "execution_count": null,
   "id": "25b633ce",
   "metadata": {},
   "outputs": [],
   "source": [
    "# Train all 5 folds with early stopping\n",
    "# This will take approximately 10-15 hours total on T4 GPU\n",
    "!python train_cross_validation_sliding.py \\\n",
    "    --all-folds \\\n",
    "    --input-dir ../Synth_LR_unpadded_nii \\\n",
    "    --target-dir ../Dynamic_SENSE_padded \\\n",
    "    --epochs 200 \\\n",
    "    --batch-size 4 \\\n",
    "    --lr 1e-5 \\\n",
    "    --early-stopping-patience 20 \\\n",
    "    --output-dir cv_results_sliding"
   ]
  },
  {
   "cell_type": "markdown",
   "id": "5d73be4e",
   "metadata": {},
   "source": [
    "### Option B: Train Individual Folds\n",
    "\n",
    "If you want to train folds separately (e.g., across multiple Colab sessions):"
   ]
  },
  {
   "cell_type": "code",
   "execution_count": null,
   "id": "0abf4bf8",
   "metadata": {},
   "outputs": [],
   "source": [
    "# Train Fold 1 only\n",
    "!python train_cross_validation_sliding.py \\\n",
    "    --fold 1 \\\n",
    "    --input-dir ../Synth_LR_unpadded_nii \\\n",
    "    --target-dir ../Dynamic_SENSE_padded \\\n",
    "    --epochs 200 \\\n",
    "    --batch-size 4 \\\n",
    "    --lr 1e-5 \\\n",
    "    --early-stopping-patience 20 \\\n",
    "    --output-dir cv_results_sliding"
   ]
  },
  {
   "cell_type": "code",
   "execution_count": null,
   "id": "d8cac1dc",
   "metadata": {},
   "outputs": [],
   "source": [
    "# Train Fold 2\n",
    "!python train_cross_validation_sliding.py --fold 2 --input-dir ../Synth_LR_unpadded_nii --target-dir ../Dynamic_SENSE_padded --epochs 200 --output-dir cv_results_sliding"
   ]
  },
  {
   "cell_type": "code",
   "execution_count": null,
   "id": "9b4c8616",
   "metadata": {},
   "outputs": [],
   "source": [
    "# Train Fold 3\n",
    "!python train_cross_validation_sliding.py --fold 3 --input-dir ../Synth_LR_unpadded_nii --target-dir ../Dynamic_SENSE_padded --epochs 200 --output-dir cv_results_sliding"
   ]
  },
  {
   "cell_type": "code",
   "execution_count": null,
   "id": "d925a9d0",
   "metadata": {},
   "outputs": [],
   "source": [
    "# Train Fold 4\n",
    "!python train_cross_validation_sliding.py --fold 4 --input-dir ../Synth_LR_unpadded_nii --target-dir ../Dynamic_SENSE_padded --epochs 200 --output-dir cv_results_sliding"
   ]
  },
  {
   "cell_type": "code",
   "execution_count": null,
   "id": "3637ee69",
   "metadata": {},
   "outputs": [],
   "source": [
    "# Train Fold 5\n",
    "!python train_cross_validation_sliding.py --fold 5 --input-dir ../Synth_LR_unpadded_nii --target-dir ../Dynamic_SENSE_padded --epochs 200 --output-dir cv_results_sliding"
   ]
  },
  {
   "cell_type": "markdown",
   "id": "c393874f",
   "metadata": {},
   "source": [
    "## 5. Check Results"
   ]
  },
  {
   "cell_type": "code",
   "execution_count": null,
   "id": "fda3f763",
   "metadata": {},
   "outputs": [],
   "source": [
    "# List all fold results\n",
    "!ls -lh cv_results_sliding/"
   ]
  },
  {
   "cell_type": "code",
   "execution_count": null,
   "id": "6a66db65",
   "metadata": {},
   "outputs": [],
   "source": [
    "# Check individual fold results\n",
    "!ls -lh cv_results_sliding/fold1/\n",
    "!ls -lh cv_results_sliding/fold2/\n",
    "!ls -lh cv_results_sliding/fold3/\n",
    "!ls -lh cv_results_sliding/fold4/\n",
    "!ls -lh cv_results_sliding/fold5/"
   ]
  },
  {
   "cell_type": "code",
   "execution_count": null,
   "id": "239c78b7",
   "metadata": {},
   "outputs": [],
   "source": [
    "# View summary if all folds completed\n",
    "import json\n",
    "\n",
    "try:\n",
    "    with open('cv_results_sliding/cv_summary.json', 'r') as f:\n",
    "        summary = json.load(f)\n",
    "    \n",
    "    print(\"=\"*80)\n",
    "    print(\"CROSS-VALIDATION SUMMARY\")\n",
    "    print(\"=\"*80)\n",
    "    print(f\"Total folds: {summary['total_folds']}\")\n",
    "    print(f\"\\nAverage validation loss: {summary['avg_val_loss']:.6f} ± {summary['std_val_loss']:.6f}\")\n",
    "    print(f\"Average test loss: {summary['avg_test_loss']:.6f} ± {summary['std_test_loss']:.6f}\")\n",
    "    print(\"\\nPer-fold results:\")\n",
    "    for result in summary['results']:\n",
    "        print(f\"  Fold {result['fold']}: Val={result['best_val_loss']:.6f}, Test={result['final_test_loss']:.6f}\")\n",
    "        if result.get('early_stopped'):\n",
    "            print(f\"            (early stopped at epoch {result.get('best_epoch', 'N/A')})\")\n",
    "except FileNotFoundError:\n",
    "    print(\"Summary not found. Make sure all folds have completed training.\")"
   ]
  },
  {
   "cell_type": "markdown",
   "id": "4baec2b2",
   "metadata": {},
   "source": [
    "## 6. Download Results to Google Drive"
   ]
  },
  {
   "cell_type": "code",
   "execution_count": null,
   "id": "5f0b29d4",
   "metadata": {},
   "outputs": [],
   "source": [
    "# Copy results to Google Drive\n",
    "!cp -r cv_results_sliding \"/content/drive/MyDrive/MSc_Project/cv_results_sliding\"\n",
    "print(\"✅ Results copied to Google Drive\")"
   ]
  },
  {
   "cell_type": "markdown",
   "id": "7734642a",
   "metadata": {},
   "source": [
    "## 7. Optional: Download Results as ZIP"
   ]
  },
  {
   "cell_type": "code",
   "execution_count": null,
   "id": "875cb17d",
   "metadata": {},
   "outputs": [],
   "source": [
    "# Create a zip file (excluding large model files if needed)\n",
    "!zip -r cv_results_sliding.zip cv_results_sliding/ -x \"*.pth\"\n",
    "\n",
    "# Download via Colab\n",
    "from google.colab import files\n",
    "files.download('cv_results_sliding.zip')"
   ]
  },
  {
   "cell_type": "code",
   "execution_count": null,
   "id": "844970a4",
   "metadata": {},
   "outputs": [],
   "source": [
    "# Or create zip WITH model files\n",
    "!zip -r cv_results_sliding_full.zip cv_results_sliding/\n",
    "\n",
    "# Copy to Drive (recommended for large files)\n",
    "!cp cv_results_sliding_full.zip \"/content/drive/MyDrive/MSc_Project/\"\n",
    "print(\"✅ Full results (with models) saved to Google Drive\")"
   ]
  },
  {
   "cell_type": "markdown",
   "id": "4b0e9575",
   "metadata": {},
   "source": [
    "## 8. Monitor Training (Optional)\n",
    "\n",
    "If training is running, you can check progress in another cell:"
   ]
  },
  {
   "cell_type": "code",
   "execution_count": null,
   "id": "6a34b9a1",
   "metadata": {},
   "outputs": [],
   "source": [
    "# Check training history for a specific fold\n",
    "import json\n",
    "import matplotlib.pyplot as plt\n",
    "\n",
    "fold_num = 1  # Change to check different folds\n",
    "\n",
    "try:\n",
    "    with open(f'cv_results_sliding/fold{fold_num}/training_history.json', 'r') as f:\n",
    "        history = json.load(f)\n",
    "    \n",
    "    epochs = range(1, len(history['train_loss']) + 1)\n",
    "    \n",
    "    fig, axes = plt.subplots(1, 3, figsize=(15, 4))\n",
    "    \n",
    "    # Loss\n",
    "    axes[0].plot(epochs, history['train_loss'], label='Train')\n",
    "    axes[0].plot(epochs, history['val_loss'], label='Val')\n",
    "    axes[0].plot(epochs, history['test_loss'], label='Test', alpha=0.7)\n",
    "    axes[0].set_xlabel('Epoch')\n",
    "    axes[0].set_ylabel('Loss')\n",
    "    axes[0].set_title(f'Fold {fold_num} - Loss')\n",
    "    axes[0].legend()\n",
    "    axes[0].grid(True, alpha=0.3)\n",
    "    \n",
    "    # MSE\n",
    "    axes[1].plot(epochs, history['train_mse'], label='Train')\n",
    "    axes[1].plot(epochs, history['val_mse'], label='Val')\n",
    "    axes[1].plot(epochs, history['test_mse'], label='Test', alpha=0.7)\n",
    "    axes[1].set_xlabel('Epoch')\n",
    "    axes[1].set_ylabel('MSE')\n",
    "    axes[1].set_title(f'Fold {fold_num} - MSE')\n",
    "    axes[1].legend()\n",
    "    axes[1].grid(True, alpha=0.3)\n",
    "    \n",
    "    # SSIM\n",
    "    axes[2].plot(epochs, history['train_ssim'], label='Train')\n",
    "    axes[2].plot(epochs, history['val_ssim'], label='Val')\n",
    "    axes[2].plot(epochs, history['test_ssim'], label='Test', alpha=0.7)\n",
    "    axes[2].set_xlabel('Epoch')\n",
    "    axes[2].set_ylabel('SSIM')\n",
    "    axes[2].set_title(f'Fold {fold_num} - SSIM')\n",
    "    axes[2].legend()\n",
    "    axes[2].grid(True, alpha=0.3)\n",
    "    \n",
    "    plt.tight_layout()\n",
    "    plt.show()\n",
    "    \n",
    "    print(f\"Best epoch: {history.get('best_epoch', 'N/A')}\")\n",
    "    if history.get('early_stopped'):\n",
    "        print(f\"Early stopped at epoch: {history.get('stopped_epoch', 'N/A')}\")\n",
    "    \n",
    "except FileNotFoundError:\n",
    "    print(f\"Training history for fold {fold_num} not found yet.\")"
   ]
  }
 ],
 "metadata": {
  "language_info": {
   "name": "python"
  }
 },
 "nbformat": 4,
 "nbformat_minor": 5
}
